{
 "cells": [
  {
   "cell_type": "markdown",
   "metadata": {},
   "source": [
    "Library"
   ]
  },
  {
   "cell_type": "code",
   "execution_count": 1,
   "metadata": {},
   "outputs": [
    {
     "name": "stderr",
     "output_type": "stream",
     "text": [
      "c:\\Users\\asus\\AppData\\Local\\Programs\\Python\\Python312\\Lib\\site-packages\\pydub\\utils.py:170: RuntimeWarning: Couldn't find ffmpeg or avconv - defaulting to ffmpeg, but may not work\n",
      "  warn(\"Couldn't find ffmpeg or avconv - defaulting to ffmpeg, but may not work\", RuntimeWarning)\n"
     ]
    }
   ],
   "source": [
    "import os\n",
    "from PIL import Image\n",
    "import pandas as pd\n",
    "from docx import Document\n",
    "from fpdf import FPDF\n",
    "from pydub import AudioSegment"
   ]
  },
  {
   "cell_type": "markdown",
   "metadata": {},
   "source": [
    "Konversi"
   ]
  },
  {
   "cell_type": "code",
   "execution_count": 2,
   "metadata": {},
   "outputs": [],
   "source": [
    "def convert_file(input_file, output_file, output_format):\n",
    "    input_ext = os.path.splitext(input_file)[1].lower()\n",
    "    \n",
    "    try:\n",
    "        if input_ext in ['.jpg', '.jpeg', '.png', '.bmp', '.gif']:\n",
    "            with Image.open(input_file) as img:\n",
    "                img.save(output_file, format=output_format.upper())\n",
    "            print(f\"Gambar berhasil dikonversi ke {output_format.upper()}!\")\n",
    "\n",
    "        elif input_ext == '.txt':\n",
    "            if output_format == 'pdf':\n",
    "                with open(input_file, 'r') as file:\n",
    "                    text = file.read()\n",
    "                pdf = FPDF()\n",
    "                pdf.add_page()\n",
    "                pdf.set_font(\"Arial\", size=12)\n",
    "                pdf.multi_cell(0, 10, text)\n",
    "                pdf.output(output_file)\n",
    "                print(\"File TXT berhasil dikonversi ke PDF!\")\n",
    "            elif output_format == 'docx':\n",
    "                doc = Document()\n",
    "                with open(input_file, 'r') as file:\n",
    "                    doc.add_paragraph(file.read())\n",
    "                doc.save(output_file)\n",
    "                print(\"File TXT berhasil dikonversi ke DOCX!\")\n",
    "\n",
    "        elif input_ext in ['.csv', '.xlsx']:\n",
    "            if output_format in ['csv', 'xlsx']:\n",
    "                df = pd.read_csv(input_file) if input_ext == '.csv' else pd.read_excel(input_file)\n",
    "                if output_format == 'csv':\n",
    "                    df.to_csv(output_file, index=False)\n",
    "                elif output_format == 'xlsx':\n",
    "                    df.to_excel(output_file, index=False)\n",
    "                print(f\"File {input_ext.upper()} berhasil dikonversi ke {output_format.upper()}!\")\n",
    "\n",
    "        elif input_ext in ['.mp3', '.wav', '.ogg']:\n",
    "            audio = AudioSegment.from_file(input_file)\n",
    "            audio.export(output_file, format=output_format)\n",
    "            print(f\"File audio berhasil dikonversi ke {output_format.upper()}!\")\n",
    "        \n",
    "        else:\n",
    "            print(\"Format file tidak didukung.\")\n",
    "    \n",
    "    except Exception as e:\n",
    "        print(f\"Terjadi kesalahan: {e}\")"
   ]
  },
  {
   "cell_type": "markdown",
   "metadata": {},
   "source": [
    "Contoh Penggunaan"
   ]
  },
  {
   "cell_type": "code",
   "execution_count": 3,
   "metadata": {},
   "outputs": [
    {
     "name": "stdout",
     "output_type": "stream",
     "text": [
      "Terjadi kesalahan: [Errno 2] No such file or directory: 'contoh.txt'\n"
     ]
    }
   ],
   "source": [
    "input_file = \"contoh.txt\" \n",
    "output_file = \"output.pdf\" \n",
    "output_format = \"pdf\" \n",
    "\n",
    "convert_file(input_file, output_file, output_format)"
   ]
  }
 ],
 "metadata": {
  "kernelspec": {
   "display_name": "Python 3",
   "language": "python",
   "name": "python3"
  },
  "language_info": {
   "codemirror_mode": {
    "name": "ipython",
    "version": 3
   },
   "file_extension": ".py",
   "mimetype": "text/x-python",
   "name": "python",
   "nbconvert_exporter": "python",
   "pygments_lexer": "ipython3",
   "version": "3.12.2"
  }
 },
 "nbformat": 4,
 "nbformat_minor": 2
}
